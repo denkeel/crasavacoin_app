{
 "cells": [
  {
   "cell_type": "code",
   "execution_count": 5,
   "metadata": {},
   "outputs": [
    {
     "data": {
      "text/plain": [
       "{'photo_url': '', 'user_name': ''}"
      ]
     },
     "execution_count": 5,
     "metadata": {},
     "output_type": "execute_result"
    }
   ],
   "source": [
    "import requests\n",
    "\n",
    "headers = {\n",
    "    'Content-Type': 'application/x-www-form-urlencoded',\n",
    "}\n",
    "\n",
    "data = '{\"photo_url\": \"\", \"user_name\": \"\"}'.encode()\n",
    "\n",
    "response = requests.put('https://crasavacoin-default-rtdb.europe-west1.firebasedatabase.app/users/0.json', headers=headers, data=data)\n",
    "response.json()"
   ]
  },
  {
   "cell_type": "code",
   "execution_count": null,
   "metadata": {},
   "outputs": [],
   "source": [
    "import requests\n",
    "\n",
    "headers = {\n",
    "    'Content-Type': 'application/json',\n",
    "}\n",
    "\n",
    "json_data = {\n",
    "    'action': '1',\n",
    "    'coins': 30060 * 9,\n",
    "    'user_id': 275698896,\n",
    "}\n",
    "\n",
    "response = requests.post('https://crasavacoin-default-rtdb.europe-west1.firebasedatabase.app/tasks.json', headers=headers, json=json_data)"
   ]
  },
  {
   "cell_type": "code",
   "execution_count": 2,
   "metadata": {},
   "outputs": [
    {
     "data": {
      "text/plain": [
       "'{\"message\":\"request to function \\'d4ei4l5fhmqbgej53rr2\\' failed, reason: Response code 502 (Bad Gateway)\"}'"
      ]
     },
     "execution_count": 2,
     "metadata": {},
     "output_type": "execute_result"
    }
   ],
   "source": [
    "import requests\n",
    "\n",
    "headers = {\n",
    "    'accept': 'text/html,application/xhtml+xml,application/xml;q=0.9,image/avif,image/webp,image/apng,*/*;q=0.8,application/signed-exchange;v=b3;q=0.7',\n",
    "    'accept-language': 'ru-RU,ru;q=0.9,en-US;q=0.8,en;q=0.7,be;q=0.6,de;q=0.5,la;q=0.4,fr;q=0.3',\n",
    "    'cache-control': 'no-cache',\n",
    "    'dnt': '1',\n",
    "    'priority': 'u=0, i',\n",
    "    'sec-ch-ua': '\"Chromium\";v=\"134\", \"Not:A-Brand\";v=\"24\", \"Google Chrome\";v=\"134\"',\n",
    "    'sec-ch-ua-mobile': '?0',\n",
    "    'sec-ch-ua-platform': '\"Windows\"',\n",
    "    'sec-fetch-dest': 'document',\n",
    "    'sec-fetch-mode': 'navigate',\n",
    "    'sec-fetch-site': 'none',\n",
    "    'sec-fetch-user': '?1',\n",
    "    'upgrade-insecure-requests': '1',\n",
    "    'user-agent': 'Mozilla/5.0 (Windows NT 10.0; Win64; x64) AppleWebKit/537.36 (KHTML, like Gecko) Chrome/134.0.0.0 Safari/537.36',\n",
    "}\n",
    "\n",
    "payload = {\n",
    "    'caption': 'пиривет',\n",
    "    # 'photo': 123145\n",
    "}\n",
    "\n",
    "response = requests.post('https://d5du1sjf5ctcjd49l11o.z7jmlavt.apigw.yandexcloud.net/tg-send-report', json=payload, headers=headers)\n",
    "response.text"
   ]
  },
  {
   "cell_type": "code",
   "execution_count": 3,
   "metadata": {},
   "outputs": [
    {
     "name": "stdout",
     "output_type": "stream",
     "text": [
      "\n"
     ]
    }
   ],
   "source": [
    "import requests\n",
    "import base64\n",
    "\n",
    "# Define the request headers\n",
    "# headers = {\n",
    "#     'accept': 'text/html,application/xhtml+xml,application/xml;q=0.9,image/avif,image/webp,image/apng,*/*;q=0.8,application/signed-exchange;v=b3;q=0.7',\n",
    "#     'accept-language': 'ru-RU,ru;q=0.9,en-US;q=0.8,en;q=0.7,be;q=0.6,de;q=0.5,la;q=0.4,fr;q=0.3',\n",
    "#     'cache-control': 'no-cache',\n",
    "#     'dnt': '1',\n",
    "#     'priority': 'u=0, i',\n",
    "#     'sec-ch-ua': '\"Chromium\";v=\"134\", \"Not:A-Brand\";v=\"24\", \"Google Chrome\";v=\"134\"',\n",
    "#     'sec-ch-ua-mobile': '?0',\n",
    "#     'sec-ch-ua-platform': '\"Windows\"',\n",
    "#     'sec-fetch-dest': 'document',\n",
    "#     'sec-fetch-mode': 'navigate',\n",
    "#     'sec-fetch-site': 'none',\n",
    "#     'sec-fetch-user': '?1',\n",
    "#     'upgrade-insecure-requests': '1',\n",
    "#     'user-agent': 'Mozilla/5.0 (Windows NT 10.0; Win64; x64) AppleWebKit/537.36 (KHTML, like Gecko) Chrome/134.0.0.0 Safari/537.36',\n",
    "# }\n",
    "\n",
    "# Read the photo file and encode it to base64\n",
    "with open(\"photo.jpg\", \"rb\") as photo_file:\n",
    "    photo_base64 = base64.b64encode(photo_file.read()).decode('utf-8')\n",
    "\n",
    "# Define the payload with the caption and photo\n",
    "payload = {\n",
    "    'caption': 'пиривет',\n",
    "    'photo': photo_base64\n",
    "}\n",
    "\n",
    "# Send the POST request\n",
    "response = requests.post(\n",
    "    'https://d5du1sjf5ctcjd49l11o.z7jmlavt.apigw.yandexcloud.net/tg-send-report',\n",
    "    json=payload,\n",
    "    headers=headers\n",
    ")\n",
    "\n",
    "# Print the response text\n",
    "print(response.text)\n"
   ]
  },
  {
   "cell_type": "code",
   "execution_count": null,
   "metadata": {
    "vscode": {
     "languageId": "javascript"
    }
   },
   "outputs": [],
   "source": [
    "import requests\n",
    "import base64\n",
    "\n",
    "with open(\"photo.jpg\", \"rb\") as photo_file:\n",
    "    photo_base64 = base64.b64encode(photo_file.read()).decode('utf-8')\n",
    "\n",
    "payload = {\n",
    "    'caption': 'пиривет',\n",
    "    'photo': photo_base64\n",
    "}\n",
    "\n",
    "response = requests.post(\n",
    "    'https://d5du1sjf5ctcjd49l11o.z7jmlavt.apigw.yandexcloud.net/tg-send-report',\n",
    "    json=payload,\n",
    "    headers=headers\n",
    ")"
   ]
  },
  {
   "cell_type": "code",
   "execution_count": null,
   "metadata": {},
   "outputs": [],
   "source": []
  }
 ],
 "metadata": {
  "kernelspec": {
   "display_name": "Python 3",
   "language": "python",
   "name": "python3"
  },
  "language_info": {
   "codemirror_mode": {
    "name": "ipython",
    "version": 3
   },
   "file_extension": ".py",
   "mimetype": "text/x-python",
   "name": "python",
   "nbconvert_exporter": "python",
   "pygments_lexer": "ipython3",
   "version": "3.11.9"
  }
 },
 "nbformat": 4,
 "nbformat_minor": 2
}
